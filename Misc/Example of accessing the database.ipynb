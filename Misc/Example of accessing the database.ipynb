{
 "cells": [
  {
   "cell_type": "code",
   "execution_count": 1,
   "metadata": {},
   "outputs": [],
   "source": [
    "from sqlalchemy import create_engine\n",
    "import datetime"
   ]
  },
  {
   "cell_type": "code",
   "execution_count": 2,
   "metadata": {},
   "outputs": [],
   "source": [
    "rds_connection_string = \"postgres:postgress@gaspriceproject.chejw18rcl0w.us-east-1.rds.amazonaws.com:5432/gaspriceproject\"\n",
    "engine = create_engine(f'postgresql://{rds_connection_string}')"
   ]
  },
  {
   "cell_type": "code",
   "execution_count": 3,
   "metadata": {},
   "outputs": [
    {
     "data": {
      "text/plain": [
       "['ohio_p',\n",
       " 'oilprices',\n",
       " 'regionstates',\n",
       " 'newyork_m',\n",
       " 'newyork_p',\n",
       " 'newyork_r',\n",
       " 'ohio_m',\n",
       " 'ohio_r',\n",
       " 'rockymountain_m',\n",
       " 'rockymountain_p',\n",
       " 'rockymountain_r',\n",
       " 'texas_m',\n",
       " 'texas_p',\n",
       " 'newengland_r',\n",
       " 'california_m',\n",
       " 'california_p',\n",
       " 'california_r',\n",
       " 'centralatlantic_m',\n",
       " 'colorado_m',\n",
       " 'texas_r',\n",
       " 'washington_m',\n",
       " 'washington_p',\n",
       " 'centralatlantic_p',\n",
       " 'centralatlantic_r',\n",
       " 'colorado_p',\n",
       " 'colorado_r',\n",
       " 'eastcoast_m',\n",
       " 'eastcoast_p',\n",
       " 'eastcoast_r',\n",
       " 'gulfcoast_m',\n",
       " 'gulfcoast_p',\n",
       " 'gulfcoast_r',\n",
       " 'loweratlantic_p',\n",
       " 'loweratlantic_r',\n",
       " 'loweratlantic_m',\n",
       " 'midwest_m',\n",
       " 'midwest_p',\n",
       " 'midwest_r',\n",
       " 'washington_r',\n",
       " 'westcoast_r',\n",
       " 'newengland_m',\n",
       " 'westcoast_m',\n",
       " 'westcoast_p',\n",
       " 'newengland_p']"
      ]
     },
     "execution_count": 3,
     "metadata": {},
     "output_type": "execute_result"
    }
   ],
   "source": [
    "tables = engine.table_names()\n",
    "tables"
   ]
  },
  {
   "cell_type": "code",
   "execution_count": 4,
   "metadata": {},
   "outputs": [],
   "source": [
    "for table in tables:\n",
    "    astr = table\n",
    "    locals()[astr] = engine.execute(f'select * from {table}').fetchall()"
   ]
  },
  {
   "cell_type": "code",
   "execution_count": 5,
   "metadata": {},
   "outputs": [
    {
     "data": {
      "text/plain": [
       "['gulfcoast_r', 'california_r']"
      ]
     },
     "execution_count": 5,
     "metadata": {},
     "output_type": "execute_result"
    }
   ],
   "source": [
    "states = [\"Alabama\", \"California\"]\n",
    "fuel_type = 1\n",
    "\n",
    "if fuel_type == 1:\n",
    "    grade = \"r\"\n",
    "elif fuel_type == 1.25:\n",
    "    grade = \"m\"\n",
    "else:\n",
    "    grade = \"p\"\n",
    "\n",
    "\n",
    "tables_needed = []\n",
    "\n",
    "for state in states:\n",
    "    for record in regionstates:\n",
    "        if state == record[0]:\n",
    "            region = record[1].replace(\" \",\"\").lower()\n",
    "            table_name = region + \"_\" + grade\n",
    "            tables_needed.append(table_name)\n",
    "\n",
    "tables_needed\n",
    "\n"
   ]
  },
  {
   "cell_type": "code",
   "execution_count": 6,
   "metadata": {},
   "outputs": [
    {
     "data": {
      "text/plain": [
       "'2021-08-15'"
      ]
     },
     "execution_count": 6,
     "metadata": {},
     "output_type": "execute_result"
    }
   ],
   "source": [
    "#DATE\n",
    "\n",
    "def next_weekday(d, weekday):\n",
    "    days_ahead = weekday - d.weekday()\n",
    "    if days_ahead <= 0: # Target day already happened this week\n",
    "        days_ahead += 7\n",
    "    return d + datetime.timedelta(days_ahead)\n",
    "\n",
    "date = '2021-08-08'\n",
    "\n",
    "year = int(date[:4])\n",
    "month = int(date[5:7])\n",
    "day = int(date[8:10])\n",
    "\n",
    "d = datetime.date(year, month, day)\n",
    "next_sunday = next_weekday(d, 6).strftime('%Y-%m-%d')\n",
    "            \n",
    "next_sunday"
   ]
  },
  {
   "cell_type": "code",
   "execution_count": 7,
   "metadata": {},
   "outputs": [],
   "source": [
    "# Tank size\n",
    "tank_size = 15 #gallons"
   ]
  },
  {
   "cell_type": "code",
   "execution_count": 8,
   "metadata": {},
   "outputs": [
    {
     "data": {
      "text/plain": [
       "'0.00'"
      ]
     },
     "execution_count": 8,
     "metadata": {},
     "output_type": "execute_result"
    }
   ],
   "source": [
    "total_cost = 0\n",
    "\n",
    "for table in tables_needed:\n",
    "    new_table = locals()[table]\n",
    "    for record in new_table:\n",
    "        if next_sunday == record[0]:\n",
    "            gas_price = float(record[1])\n",
    "            print(gas_price)\n",
    "            cost = gas_price*tank_size\n",
    "            total_cost = cost + total_cost\n",
    "            break\n",
    "            \n",
    "            \n",
    "total_cost = \"{:.2f}\".format(total_cost)\n",
    "total_cost"
   ]
  },
  {
   "cell_type": "code",
   "execution_count": 9,
   "metadata": {},
   "outputs": [
    {
     "data": {
      "text/plain": [
       "1161"
      ]
     },
     "execution_count": 9,
     "metadata": {},
     "output_type": "execute_result"
    }
   ],
   "source": [
    "len(california_r)"
   ]
  },
  {
   "cell_type": "code",
   "execution_count": 10,
   "metadata": {},
   "outputs": [
    {
     "data": {
      "text/plain": [
       "('2022-08-14', '3.7183636572576284', '3.1306334088590893', '4.448485689431449', '3.5692945192454144', '3.854955781410429', '0.07898436836578134', '0.07898436836578134', '0.07898436836578134', '0.07898436836578134', '0.07898436836578134', '0.07898436836578134', '0.0', '0.0', '0.0', '3.7973480256234096')"
      ]
     },
     "execution_count": 10,
     "metadata": {},
     "output_type": "execute_result"
    }
   ],
   "source": [
    "california_r[1160]"
   ]
  },
  {
   "cell_type": "code",
   "execution_count": 11,
   "metadata": {},
   "outputs": [
    {
     "data": {
      "text/plain": [
       "1580"
      ]
     },
     "execution_count": 11,
     "metadata": {},
     "output_type": "execute_result"
    }
   ],
   "source": [
    "len(gulfcoast_r)"
   ]
  },
  {
   "cell_type": "code",
   "execution_count": 12,
   "metadata": {},
   "outputs": [
    {
     "data": {
      "text/plain": [
       "('2022-08-14', '2.132117570351249', '1.6556857482780267', '2.8188693316825804', '2.0383265064350686', '2.227923864542086', '0.08554668739067875', '0.08554668739067875', '0.08554668739067875', '0.08554668739067875', '0.08554668739067875', '0.08554668739067875', '0.0', '0.0', '0.0', '2.217664257741928')"
      ]
     },
     "execution_count": 12,
     "metadata": {},
     "output_type": "execute_result"
    }
   ],
   "source": [
    "gulfcoast_r[1579]"
   ]
  },
  {
   "cell_type": "code",
   "execution_count": 13,
   "metadata": {},
   "outputs": [],
   "source": [
    "val1 = 3.7183636572576284\n",
    "val2 = 2.132117570351249\n",
    "cost1 = val1 * tank_size\n",
    "cost2 = val2 * tank_size"
   ]
  },
  {
   "cell_type": "code",
   "execution_count": 14,
   "metadata": {},
   "outputs": [
    {
     "data": {
      "text/plain": [
       "55.77545485886443"
      ]
     },
     "execution_count": 14,
     "metadata": {},
     "output_type": "execute_result"
    }
   ],
   "source": [
    "cost1"
   ]
  },
  {
   "cell_type": "code",
   "execution_count": 15,
   "metadata": {},
   "outputs": [
    {
     "data": {
      "text/plain": [
       "31.981763555268735"
      ]
     },
     "execution_count": 15,
     "metadata": {},
     "output_type": "execute_result"
    }
   ],
   "source": [
    "cost2"
   ]
  },
  {
   "cell_type": "code",
   "execution_count": 16,
   "metadata": {},
   "outputs": [
    {
     "data": {
      "text/plain": [
       "87.75721841413316"
      ]
     },
     "execution_count": 16,
     "metadata": {},
     "output_type": "execute_result"
    }
   ],
   "source": [
    "cost1+cost2"
   ]
  },
  {
   "cell_type": "code",
   "execution_count": null,
   "metadata": {},
   "outputs": [],
   "source": []
  }
 ],
 "metadata": {
  "kernelspec": {
   "display_name": "Python [conda env:PythonData] *",
   "language": "python",
   "name": "conda-env-PythonData-py"
  },
  "language_info": {
   "codemirror_mode": {
    "name": "ipython",
    "version": 3
   },
   "file_extension": ".py",
   "mimetype": "text/x-python",
   "name": "python",
   "nbconvert_exporter": "python",
   "pygments_lexer": "ipython3",
   "version": "3.6.10"
  }
 },
 "nbformat": 4,
 "nbformat_minor": 5
}
