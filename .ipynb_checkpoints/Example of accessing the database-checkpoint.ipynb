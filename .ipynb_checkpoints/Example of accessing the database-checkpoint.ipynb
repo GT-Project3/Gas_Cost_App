{
 "cells": [
  {
   "cell_type": "code",
   "execution_count": 1,
   "metadata": {},
   "outputs": [],
   "source": [
    "from sqlalchemy import create_engine"
   ]
  },
  {
   "cell_type": "code",
   "execution_count": 2,
   "metadata": {},
   "outputs": [],
   "source": [
    "rds_connection_string = \"postgres:postgress@gaspriceproject.chejw18rcl0w.us-east-1.rds.amazonaws.com:5432/gaspriceproject\"\n",
    "engine = create_engine(f'postgresql://{rds_connection_string}')"
   ]
  },
  {
   "cell_type": "code",
   "execution_count": 3,
   "metadata": {},
   "outputs": [
    {
     "data": {
      "text/plain": [
       "['ohio_p',\n",
       " 'oilprices',\n",
       " 'regionstates',\n",
       " 'newyork_m',\n",
       " 'newyork_p',\n",
       " 'newyork_r',\n",
       " 'ohio_m',\n",
       " 'ohio_r',\n",
       " 'rockymountain_m',\n",
       " 'rockymountain_p',\n",
       " 'rockymountain_r',\n",
       " 'texas_m',\n",
       " 'texas_p',\n",
       " 'newengland_r',\n",
       " 'california_m',\n",
       " 'california_p',\n",
       " 'california_r',\n",
       " 'centralatlantic_m',\n",
       " 'colorado_m',\n",
       " 'texas_r',\n",
       " 'washington_m',\n",
       " 'washington_p',\n",
       " 'centralatlantic_p',\n",
       " 'centralatlantic_r',\n",
       " 'colorado_p',\n",
       " 'colorado_r',\n",
       " 'eastcoast_m',\n",
       " 'eastcoast_p',\n",
       " 'eastcoast_r',\n",
       " 'gulfcoast_m',\n",
       " 'gulfcoast_p',\n",
       " 'gulfcoast_r',\n",
       " 'loweratlantic_p',\n",
       " 'loweratlantic_r',\n",
       " 'loweratlantic_m',\n",
       " 'midwest_m',\n",
       " 'midwest_p',\n",
       " 'midwest_r',\n",
       " 'washington_r',\n",
       " 'westcoast_r',\n",
       " 'newengland_m',\n",
       " 'westcoast_m',\n",
       " 'westcoast_p',\n",
       " 'newengland_p']"
      ]
     },
     "execution_count": 3,
     "metadata": {},
     "output_type": "execute_result"
    }
   ],
   "source": [
    "tables = engine.table_names()\n",
    "tables"
   ]
  },
  {
   "cell_type": "code",
   "execution_count": 4,
   "metadata": {},
   "outputs": [],
   "source": [
    "for table in tables:\n",
    "    astr = table\n",
    "    locals()[astr] = engine.execute(f'select * from {table}').fetchall()"
   ]
  },
  {
   "cell_type": "code",
   "execution_count": 6,
   "metadata": {},
   "outputs": [
    {
     "data": {
      "text/plain": [
       "('Alabama', 'Gulf Coast')"
      ]
     },
     "execution_count": 6,
     "metadata": {},
     "output_type": "execute_result"
    }
   ],
   "source": [
    "states = [\"Alabama\", \"California\"]\n",
    "\n",
    "for state in states:\n",
    "    for each record in regionstates:\n",
    "        if state "
   ]
  },
  {
   "cell_type": "code",
   "execution_count": null,
   "metadata": {},
   "outputs": [],
   "source": []
  }
 ],
 "metadata": {
  "kernelspec": {
   "display_name": "Python [conda env:PythonData] *",
   "language": "python",
   "name": "conda-env-PythonData-py"
  },
  "language_info": {
   "codemirror_mode": {
    "name": "ipython",
    "version": 3
   },
   "file_extension": ".py",
   "mimetype": "text/x-python",
   "name": "python",
   "nbconvert_exporter": "python",
   "pygments_lexer": "ipython3",
   "version": "3.6.10"
  }
 },
 "nbformat": 4,
 "nbformat_minor": 5
}
